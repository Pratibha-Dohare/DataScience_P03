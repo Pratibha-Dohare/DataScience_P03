{
 "cells": [
  {
   "cell_type": "markdown",
   "id": "1141a017",
   "metadata": {},
   "source": [
    "# Printing a table of a number till 12"
   ]
  },
  {
   "cell_type": "code",
   "execution_count": 27,
   "id": "2da38089",
   "metadata": {},
   "outputs": [
    {
     "name": "stdout",
     "output_type": "stream",
     "text": [
      "Enter the number of which you want table: 6\n",
      "****************************************************************************************************\n",
      "\n",
      " 6 x 1 = 6\n",
      "------------\n",
      "\n",
      " 6 x 2 = 12\n",
      "------------\n",
      "\n",
      " 6 x 3 = 18\n",
      "------------\n",
      "\n",
      " 6 x 4 = 24\n",
      "------------\n",
      "\n",
      " 6 x 5 = 30\n",
      "------------\n",
      "\n",
      " 6 x 6 = 36\n",
      "------------\n",
      "\n",
      " 6 x 7 = 42\n",
      "------------\n",
      "\n",
      " 6 x 8 = 48\n",
      "------------\n",
      "\n",
      " 6 x 9 = 54\n",
      "------------\n",
      "\n",
      " 6 x 10 = 60\n",
      "------------\n",
      "\n",
      " 6 x 11 = 66\n",
      "------------\n",
      "\n",
      " 6 x 12 = 72\n",
      "------------\n"
     ]
    }
   ],
   "source": [
    "                  \n",
    "count=1                                                              #initialize the counting of table from 1                \n",
    "no=int(input(\"Enter the number of which you want table: \"))\n",
    "print(\"*\"*100)\n",
    "\n",
    "\n",
    "while(count<=12):                                                     #as we want table of a number till 12\n",
    "    print(\"\\n\",no,\"x\", count , \"=\", no*count )\n",
    "    count += 1                                                        #incrementing count by 1\n",
    "    print(\"-\"*12) \n",
    "    "
   ]
  },
  {
   "cell_type": "code",
   "execution_count": null,
   "id": "2177c843",
   "metadata": {},
   "outputs": [],
   "source": []
  }
 ],
 "metadata": {
  "kernelspec": {
   "display_name": "Python 3 (ipykernel)",
   "language": "python",
   "name": "python3"
  },
  "language_info": {
   "codemirror_mode": {
    "name": "ipython",
    "version": 3
   },
   "file_extension": ".py",
   "mimetype": "text/x-python",
   "name": "python",
   "nbconvert_exporter": "python",
   "pygments_lexer": "ipython3",
   "version": "3.9.7"
  }
 },
 "nbformat": 4,
 "nbformat_minor": 5
}
